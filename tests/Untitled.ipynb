{
 "cells": [
  {
   "cell_type": "code",
   "execution_count": 64,
   "metadata": {},
   "outputs": [],
   "source": [
    "import time\n",
    "import random\n",
    "import sys\n",
    "import os\n",
    "import glob\n",
    "import logging\n",
    "import numpy as np\n",
    "import cv2"
   ]
  },
  {
   "cell_type": "code",
   "execution_count": 65,
   "metadata": {},
   "outputs": [],
   "source": [
    "CARLA_PATH = 'C:/Users/saile/Desktop/Sailesh/Carla Simulator/CARLA_0.9.10/WindowsNoEditor/PythonAPI/carla/dist/carla-*%d.%d-%s.egg'\n",
    "try:\n",
    "    sys.path.append(glob.glob(CARLA_PATH % (\n",
    "        sys.version_info.major,\n",
    "        sys.version_info.minor,\n",
    "        'win-amd64' if os.name == 'nt' else 'linux-x86_64'))[0])\n",
    "except IndexError:\n",
    "    pass\n",
    "\n",
    "import carla\n",
    "from carla import VehicleLightState as vls "
   ]
  },
  {
   "cell_type": "code",
   "execution_count": 66,
   "metadata": {},
   "outputs": [],
   "source": [
    "SHOW_PREVIEW = False\n",
    "VEHICLE_NAME = 'audi'\n",
    "MODEL_NAME = 'a2'"
   ]
  },
  {
   "cell_type": "code",
   "execution_count": 67,
   "metadata": {},
   "outputs": [],
   "source": [
    "actor_list = []"
   ]
  },
  {
   "cell_type": "code",
   "execution_count": 68,
   "metadata": {},
   "outputs": [],
   "source": [
    "client = carla.Client('localhost', 2000)\n",
    "world = client.get_world()\n",
    "map = world.get_map()\n",
    "blueprint_library = world.get_blueprint_library()\n",
    "spawn_points = map.get_spawn_points()"
   ]
  },
  {
   "cell_type": "code",
   "execution_count": 69,
   "metadata": {},
   "outputs": [],
   "source": [
    "vehicle_blueprint = blueprint_library.filter(f\"vehicle.{VEHICLE_NAME}.{MODEL_NAME}\")[0]\n",
    "vehicle_spawn_location = random.choice(map.get_spawn_points())\n",
    "vehicle = world.spawn_actor(vehicle_blueprint, vehicle_spawn_location)\n",
    "actor_list.append(vehicle)"
   ]
  },
  {
   "cell_type": "code",
   "execution_count": 70,
   "metadata": {},
   "outputs": [],
   "source": [
    "rgb_camera_bp = blueprint_library.find('sensor.camera.rgb')\n",
    "depth_sensor_bp = blueprint_library.find('sensor.camera.depth')\n",
    "rgb_camera_transform = carla.Transform(carla.Location(x=1.5, z=2.4))\n",
    "depth_sensor_transform = carla.Transform(carla.Location(x=1.5, z=2.4))\n",
    "rgb_camera = world.spawn_actor(rgb_camera_bp, rgb_camera_transform, attach_to=vehicle)\n",
    "depth_sensor = world.spawn_actor(depth_sensor_bp, depth_sensor_transform, attach_to=vehicle)"
   ]
  },
  {
   "cell_type": "code",
   "execution_count": null,
   "metadata": {},
   "outputs": [],
   "source": []
  },
  {
   "cell_type": "code",
   "execution_count": null,
   "metadata": {},
   "outputs": [],
   "source": []
  },
  {
   "cell_type": "code",
   "execution_count": null,
   "metadata": {},
   "outputs": [],
   "source": []
  }
 ],
 "metadata": {
  "kernelspec": {
   "display_name": "venv",
   "language": "python",
   "name": "venv"
  },
  "language_info": {
   "codemirror_mode": {
    "name": "ipython",
    "version": 3
   },
   "file_extension": ".py",
   "mimetype": "text/x-python",
   "name": "python",
   "nbconvert_exporter": "python",
   "pygments_lexer": "ipython3",
   "version": "3.7.9"
  }
 },
 "nbformat": 4,
 "nbformat_minor": 4
}
